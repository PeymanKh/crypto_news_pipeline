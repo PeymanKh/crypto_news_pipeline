{
 "cells": [
  {
   "cell_type": "markdown",
   "id": "f6a76f3c-0a74-4cbf-8a25-c851522e5afe",
   "metadata": {},
   "source": [
    "# LangGraph Node Testing Lab\n",
    "\n",
    "**Purpose**: Interactive testing environment for individual LangGraph nodes during development.\n",
    "\n",
    "**What I'm Testing**:\n",
    "- `fetch_news_node`: Fetches crypto news from API and creates NewsItem objects\n",
    "- `check_cache_node`: Checks for cached news items\n",
    "- Individual node functionality before integration\n",
    "\n",
    "**Why Notebook**:\n",
    "- Keep state between cells for iterative testing\n",
    "- Visual feedback and debugging\n",
    "- Quick experimentation without full test suite\n",
    "\n",
    "**Author**: Peyman Kh  \n",
    "**Date**: September 2025\n"
   ]
  },
  {
   "cell_type": "code",
   "execution_count": 1,
   "id": "baada0c2-e540-4a6a-9b6a-2c754e192fb1",
   "metadata": {},
   "outputs": [],
   "source": [
    "# Add project root to Python path for module imports\n",
    "# This allows importing from 'src' directory when running notebook from subdirectories\n",
    "import sys\n",
    "import os\n",
    "\n",
    "sys.path.append(os.path.abspath(os.path.join(os.getcwd(), \"..\")))"
   ]
  },
  {
   "cell_type": "code",
   "execution_count": 2,
   "id": "1a2bb58f-c7f6-47ce-b050-297eed87f64a",
   "metadata": {},
   "outputs": [
    {
     "name": "stdout",
     "output_type": "stream",
     "text": [
      "2025-09-20 20:10:27 | INFO | src.config.logging_config | Logging initialized successfully.\n",
      "2025-09-20 20:10:27 | INFO | root | Configuration loaded for DEVELOPMENT environment.\n"
     ]
    }
   ],
   "source": [
    "# Import libraries\n",
    "from langgraph.graph import StateGraph, START, END\n",
    "from langgraph.checkpoint.memory import InMemorySaver\n",
    "\n",
    "from src.state import GraphState\n",
    "from src.config.config import config\n",
    "from src.nodes.fetch_news import fetch_news_node\n",
    "from src.nodes.check_cache import check_cache_node\n",
    "from src.nodes.sentiment_analysis import sentiment_analysis_node\n",
    "from src.nodes.write_to_database import write_to_database_node"
   ]
  },
  {
   "cell_type": "code",
   "execution_count": 3,
   "id": "15832f72-a0ff-4139-a220-33eca1abeb45",
   "metadata": {},
   "outputs": [],
   "source": [
    "os.environ[\"OPENAI_API_KEY\"] = config.model_api_key.get_secret_value()"
   ]
  },
  {
   "cell_type": "markdown",
   "id": "19a31efc-e9c3-405a-806c-1470ac6e9aaa",
   "metadata": {},
   "source": [
    "# 1. Create Graph"
   ]
  },
  {
   "cell_type": "code",
   "execution_count": 4,
   "id": "f0e1e4d6-8e0e-4448-a95b-852503c1f2d5",
   "metadata": {},
   "outputs": [],
   "source": [
    "# Create Graph\n",
    "builder = StateGraph(GraphState)\n",
    "\n",
    "builder.add_node(\"fetch_news\", fetch_news_node)\n",
    "builder.add_node(\"check_cache\", check_cache_node)\n",
    "builder.add_node(\"sentiment_analysis\", sentiment_analysis_node)\n",
    "builder.add_node(\"write_to_database\", write_to_database_node)\n",
    "\n",
    "builder.add_edge(START, \"fetch_news\")\n",
    "builder.add_edge(\"fetch_news\", \"check_cache\")\n",
    "builder.add_edge(\"check_cache\", \"sentiment_analysis\")\n",
    "builder.add_edge(\"sentiment_analysis\", \"write_to_database\")\n",
    "builder.add_edge(\"write_to_database\", END)\n",
    "\n",
    "memory = InMemorySaver()\n",
    "graph = builder.compile(checkpointer=memory)"
   ]
  },
  {
   "cell_type": "code",
   "execution_count": 6,
   "id": "b34d3b4a-82dd-44c2-9e35-832819353197",
   "metadata": {},
   "outputs": [],
   "source": [
    "initial_state = GraphState(\n",
    "    raw_news=[], \n",
    "    cache=[], \n",
    "    cache_hit=0, \n",
    "    unseen_news=[], \n",
    "    processed_news=[], \n",
    "    database_write_success=False, \n",
    "    telegram_notification_success=False\n",
    ")\n",
    "thread = {\"configurable\": {\"thread_id\": \"test\"}}"
   ]
  },
  {
   "cell_type": "markdown",
   "id": "5437ae73-c34d-435d-a2f3-d17c00df8aae",
   "metadata": {},
   "source": [
    "---\n",
    "## Test Node 1: Fetch News Node"
   ]
  },
  {
   "cell_type": "code",
   "execution_count": 7,
   "id": "43a5a619-f950-418e-af2b-d1fd8e6260d9",
   "metadata": {},
   "outputs": [
    {
     "name": "stdout",
     "output_type": "stream",
     "text": [
      "2025-09-20 20:11:25 | INFO | src.nodes.fetch_news | Fetching latest cryptocurrency news...\n",
      "2025-09-20 20:11:26 | INFO | src.nodes.fetch_news | Successfully fetched latest cryptocurrency news.\n"
     ]
    }
   ],
   "source": [
    "# invoke first node\n",
    "result1 = graph.nodes[\"fetch_news\"].invoke(initial_state, thread)"
   ]
  },
  {
   "cell_type": "code",
   "execution_count": 8,
   "id": "3ab6002a-ab2d-4714-ac95-bf9525ef6077",
   "metadata": {},
   "outputs": [
    {
     "data": {
      "text/plain": [
       "{'raw_news': [NewsItem(id='381e533c-11cb-57df-860d-1b8251d5e556', title='2 Examples Of How Better Blockchains Are Key For Wider Crypto Adoption', text='Legislating bitcoin purchases by the U.S. government might be exciting, but technical blockchain improvements remain essential for wider adoption', source_name='Forbes', news_url='https://www.forbes.com/sites/digital-assets/2025/09/20/2-examples-of-how-better-blockchains-are-key-for-wider-crypto-adoption/', image_url='https://crypto.snapi.dev/images/v1/r/l/9/2-examples-of-how-better-block-780224.jpg', timestamp=datetime.datetime(2025, 9, 20, 11, 52, 44, tzinfo=datetime.timezone(datetime.timedelta(days=-1, seconds=72000)))),\n",
       "  NewsItem(id='47f890bf-2b91-5068-bf03-6b77d457637f', title='Canada Seizes $40M In Crypto From TradeOgre After Europol Tip', text=\"Canadian authorities have seized a record $40 million in crypto from cryptocurrency exchange TradeOgre. The seizure is the country's largest crypto seizure to date, and comes after a year-long probe by the Royal Canadian Mounted Police (RCMP).\", source_name='Crypto Daily', news_url='https://cryptodaily.co.uk/2025/09/canada-seizes-40m-in-crypto-from-tradeogre-after-europol-tip', image_url='https://crypto.snapi.dev/images/v1/p/p/q/gen1-571193-780221.jpg', timestamp=datetime.datetime(2025, 9, 20, 11, 51, 56, tzinfo=datetime.timezone(datetime.timedelta(days=-1, seconds=72000)))),\n",
       "  NewsItem(id='2930090f-a511-5603-90b6-9075d441de19', title='Crypto custodian BitGo reveals 2025 revenue surge in US IPO filing', text=\"BitGo's revenue in the first half of 2025 nearly quadrupled over the prior period, though its profit margin collapsed.\", source_name='The Block', news_url='https://www.theblock.co/post/371504/crypto-custodian-bitgo-reveals-2025-revenue-surge-in-us-ipo-filing', image_url='https://crypto.snapi.dev/images/v1/w/q/t/22dd-571683-780220.jpg', timestamp=datetime.datetime(2025, 9, 20, 11, 44, 56, tzinfo=datetime.timezone(datetime.timedelta(days=-1, seconds=72000)))),\n",
       "  NewsItem(id='35cfe17f-68e6-5fe8-a175-e577bbc7a1da', title='BitGo Files for IPO With $4.2B in H1 2025 Revenue, $90B in Crypto on Platform', text='Crypto custodian BitGo has filed its first public S-1 registration statement with the U.S. Securities and Exchange Commission (SEC), planning to list Class A common stock on the New York Stock Exchange under the ticker BTGO.', source_name='Coindesk', news_url='https://www.coindesk.com/business/2025/09/20/bitgo-files-for-ipo-with-usd4-2b-in-h1-2025-revenue-usd90b-in-crypto-on-platform', image_url='https://crypto.snapi.dev/images/v1/f/1/2/gen35-514418-780196.jpg', timestamp=datetime.datetime(2025, 9, 20, 10, 5, 42, tzinfo=datetime.timezone(datetime.timedelta(days=-1, seconds=72000)))),\n",
       "  NewsItem(id='efd120f1-d744-5103-9250-d4a7940a38fa', title='FTX to Dispense $1.6 Billion in Bankruptcy Repayments This Month', text='The third wave of payments will occur on September 30.', source_name='Decrypt', news_url='https://decrypt.co/340551/ftx-dispense-1-6-billion-bankruptcy-repayments', image_url='https://crypto.snapi.dev/images/v1/g/w/u/gen20-571710-779915.jpg', timestamp=datetime.datetime(2025, 9, 19, 18, 1, 49, tzinfo=datetime.timezone(datetime.timedelta(days=-1, seconds=72000)))),\n",
       "  NewsItem(id='ce1cc8ef-ad31-594b-9ca0-db80da948661', title='US Treasury Department seeks public comment on applying GENIUS Act stablecoin rules', text='GENIUS passed both Republican-led chambers of the U.S. Congress in July with the backing of President Donald Trump.', source_name='The Block', news_url='https://www.theblock.co/post/371490/us-treasury-department-seeks-public-comment-on-applying-genius-act-stablecoin-rules', image_url='https://crypto.snapi.dev/images/v1/i/c/y/jhyt543-608584-779867.jpg', timestamp=datetime.datetime(2025, 9, 19, 16, 32, 12, tzinfo=datetime.timezone(datetime.timedelta(days=-1, seconds=72000)))),\n",
       "  NewsItem(id='f25ffaca-b3c2-55f2-9500-88c756fdf409', title='Bankrupt Exchange FTX Set to Repay $1.6B to Creditors Starting on Sep. 30', text=\"FTX's bankruptcy estate is set to release $1.6 billion of funds to creditors at the end of the month, marking the third major payout following the crypto exchange's implosion nearly three years ago.\", source_name='Coindesk', news_url='https://www.coindesk.com/business/2025/09/19/bankrupt-exchange-ftx-set-to-repay-usd1-6b-to-creditors-starting-on-sep-30', image_url='https://crypto.snapi.dev/images/v1/q/x/5/gen6-571761-779856.jpg', timestamp=datetime.datetime(2025, 9, 19, 16, 2, 19, tzinfo=datetime.timezone(datetime.timedelta(days=-1, seconds=72000)))),\n",
       "  NewsItem(id='af9ab8cc-e58d-5760-8c7a-96b016076037', title=\"X Takes Legal Action Against Crypto Scamming Network's Bribery Scheme\", text='The social media company said it is taking the action against banned users who tried to bribe their way back onto the platform.', source_name='Decrypt', news_url='https://decrypt.co/340497/x-legal-action-crypto-scamming-bribery-scheme', image_url='https://crypto.snapi.dev/images/v1/y/a/e/gen14-571732-779842.jpg', timestamp=datetime.datetime(2025, 9, 19, 15, 57, 11, tzinfo=datetime.timezone(datetime.timedelta(days=-1, seconds=72000)))),\n",
       "  NewsItem(id='a4c92b0c-d146-557b-b2c3-ef0712c1088f', title='FTX to pay out additional $1.6 billion to creditors in third distribution', text=\"FTX will disburse an additional $1.6 billion to creditors beginning Sept. 30 as part of the bankruptcy estate's third distribution.\", source_name='The Block', news_url='https://www.theblock.co/post/371486/ftx-to-pay-out-additional-1-6-billion-to-creditors-in-third-distribution', image_url='https://crypto.snapi.dev/images/v1/6/c/x/gen16-571724-779840.jpg', timestamp=datetime.datetime(2025, 9, 19, 15, 52, 31, tzinfo=datetime.timezone(datetime.timedelta(days=-1, seconds=72000)))),\n",
       "  NewsItem(id='b205d519-1475-5741-9c28-5d9992e6fa6f', title='Crypto-Fueled Rekt Drinks Sells 1 Millionth Can Amid MoonPay Collab', text='Rekt Brands reached a major milestone, selling its 1 millionth can of its Rekt Drinks sparkling water during its MoonPay collab drop.', source_name='Decrypt', news_url='https://decrypt.co/340385/crypto-fueled-rekt-drinks-sells-1-millionth-can-moonpay-collab', image_url='https://crypto.snapi.dev/images/v1/i/8/a/gen19-571718-779820.jpg', timestamp=datetime.datetime(2025, 9, 19, 15, 0, 54, tzinfo=datetime.timezone(datetime.timedelta(days=-1, seconds=72000))))]}"
      ]
     },
     "execution_count": 8,
     "metadata": {},
     "output_type": "execute_result"
    }
   ],
   "source": [
    "result1"
   ]
  },
  {
   "cell_type": "markdown",
   "id": "8ad86c91-dbb3-42d8-b4f3-3c010e9cc964",
   "metadata": {},
   "source": [
    "---\n",
    "## Test Node 2: Check Cache"
   ]
  },
  {
   "cell_type": "code",
   "execution_count": 9,
   "id": "9f0b65f9-9004-44a9-a3d9-a1393e1e7eef",
   "metadata": {},
   "outputs": [
    {
     "name": "stdout",
     "output_type": "stream",
     "text": [
      "2025-09-20 20:11:28 | INFO | root | Initializing database connection...\n",
      "2025-09-20 20:11:28 | INFO | root | Database connection initialized successfully.\n",
      "2025-09-20 20:11:28 | INFO | src.nodes.check_cache | Cache loaded successfully with 10 items.\n"
     ]
    }
   ],
   "source": [
    "result2 = graph.nodes[\"check_cache\"].invoke(result1, thread)"
   ]
  },
  {
   "cell_type": "code",
   "execution_count": 10,
   "id": "9f3644aa-cccc-47e9-a4d6-835dad1229b4",
   "metadata": {},
   "outputs": [
    {
     "data": {
      "text/plain": [
       "{'cache': ['efd120f1-d744-5103-9250-d4a7940a38fa',\n",
       "  'ce1cc8ef-ad31-594b-9ca0-db80da948661',\n",
       "  'f25ffaca-b3c2-55f2-9500-88c756fdf409',\n",
       "  'af9ab8cc-e58d-5760-8c7a-96b016076037',\n",
       "  'a4c92b0c-d146-557b-b2c3-ef0712c1088f',\n",
       "  'b205d519-1475-5741-9c28-5d9992e6fa6f',\n",
       "  'f2ae039d-f959-5eef-ae58-d61b06621096',\n",
       "  '16dbd9a6-bdb7-5f12-8a0b-08797dd94153',\n",
       "  '2687f988-0bf4-5931-a92b-e29eab4df0e8',\n",
       "  '74a08349-6034-5993-a633-9377a5cfed7b'],\n",
       " 'cache_hit': 6,\n",
       " 'unseen_news': [NewsItem(id='381e533c-11cb-57df-860d-1b8251d5e556', title='2 Examples Of How Better Blockchains Are Key For Wider Crypto Adoption', text='Legislating bitcoin purchases by the U.S. government might be exciting, but technical blockchain improvements remain essential for wider adoption', source_name='Forbes', news_url='https://www.forbes.com/sites/digital-assets/2025/09/20/2-examples-of-how-better-blockchains-are-key-for-wider-crypto-adoption/', image_url='https://crypto.snapi.dev/images/v1/r/l/9/2-examples-of-how-better-block-780224.jpg', timestamp=datetime.datetime(2025, 9, 20, 11, 52, 44, tzinfo=datetime.timezone(datetime.timedelta(days=-1, seconds=72000)))),\n",
       "  NewsItem(id='47f890bf-2b91-5068-bf03-6b77d457637f', title='Canada Seizes $40M In Crypto From TradeOgre After Europol Tip', text=\"Canadian authorities have seized a record $40 million in crypto from cryptocurrency exchange TradeOgre. The seizure is the country's largest crypto seizure to date, and comes after a year-long probe by the Royal Canadian Mounted Police (RCMP).\", source_name='Crypto Daily', news_url='https://cryptodaily.co.uk/2025/09/canada-seizes-40m-in-crypto-from-tradeogre-after-europol-tip', image_url='https://crypto.snapi.dev/images/v1/p/p/q/gen1-571193-780221.jpg', timestamp=datetime.datetime(2025, 9, 20, 11, 51, 56, tzinfo=datetime.timezone(datetime.timedelta(days=-1, seconds=72000)))),\n",
       "  NewsItem(id='2930090f-a511-5603-90b6-9075d441de19', title='Crypto custodian BitGo reveals 2025 revenue surge in US IPO filing', text=\"BitGo's revenue in the first half of 2025 nearly quadrupled over the prior period, though its profit margin collapsed.\", source_name='The Block', news_url='https://www.theblock.co/post/371504/crypto-custodian-bitgo-reveals-2025-revenue-surge-in-us-ipo-filing', image_url='https://crypto.snapi.dev/images/v1/w/q/t/22dd-571683-780220.jpg', timestamp=datetime.datetime(2025, 9, 20, 11, 44, 56, tzinfo=datetime.timezone(datetime.timedelta(days=-1, seconds=72000)))),\n",
       "  NewsItem(id='35cfe17f-68e6-5fe8-a175-e577bbc7a1da', title='BitGo Files for IPO With $4.2B in H1 2025 Revenue, $90B in Crypto on Platform', text='Crypto custodian BitGo has filed its first public S-1 registration statement with the U.S. Securities and Exchange Commission (SEC), planning to list Class A common stock on the New York Stock Exchange under the ticker BTGO.', source_name='Coindesk', news_url='https://www.coindesk.com/business/2025/09/20/bitgo-files-for-ipo-with-usd4-2b-in-h1-2025-revenue-usd90b-in-crypto-on-platform', image_url='https://crypto.snapi.dev/images/v1/f/1/2/gen35-514418-780196.jpg', timestamp=datetime.datetime(2025, 9, 20, 10, 5, 42, tzinfo=datetime.timezone(datetime.timedelta(days=-1, seconds=72000))))]}"
      ]
     },
     "execution_count": 10,
     "metadata": {},
     "output_type": "execute_result"
    }
   ],
   "source": [
    "result2"
   ]
  },
  {
   "cell_type": "code",
   "execution_count": 11,
   "id": "671706f4-37b3-45e5-95f0-67a34ff53cd8",
   "metadata": {},
   "outputs": [
    {
     "data": {
      "text/plain": [
       "4"
      ]
     },
     "execution_count": 11,
     "metadata": {},
     "output_type": "execute_result"
    }
   ],
   "source": [
    "len(result2[\"unseen_news\"])"
   ]
  },
  {
   "cell_type": "markdown",
   "id": "c41467a2-38dc-46e4-8989-70f89f5759c3",
   "metadata": {},
   "source": [
    "---\n",
    "## Test Node 3: Sentiment Analysis"
   ]
  },
  {
   "cell_type": "code",
   "execution_count": 12,
   "id": "14c40342-7a96-4edd-8464-76d2a15b3150",
   "metadata": {},
   "outputs": [
    {
     "name": "stdout",
     "output_type": "stream",
     "text": [
      "2025-09-20 20:11:31 | INFO | src.nodes.sentiment_analysis | Processing 4 news items...\n",
      "2025-09-20 20:11:33 | INFO | httpx | HTTP Request: POST https://api.openai.com/v1/chat/completions \"HTTP/1.1 200 OK\"\n",
      "2025-09-20 20:11:33 | INFO | src.nodes.sentiment_analysis | Successfully processed news item: 381e533c-11cb-57df-860d-1b8251d5e556\n",
      "2025-09-20 20:11:34 | INFO | httpx | HTTP Request: POST https://api.openai.com/v1/chat/completions \"HTTP/1.1 200 OK\"\n",
      "2025-09-20 20:11:34 | INFO | src.nodes.sentiment_analysis | Successfully processed news item: 47f890bf-2b91-5068-bf03-6b77d457637f\n",
      "2025-09-20 20:11:35 | INFO | httpx | HTTP Request: POST https://api.openai.com/v1/chat/completions \"HTTP/1.1 200 OK\"\n",
      "2025-09-20 20:11:35 | INFO | src.nodes.sentiment_analysis | Successfully processed news item: 2930090f-a511-5603-90b6-9075d441de19\n",
      "2025-09-20 20:11:37 | INFO | httpx | HTTP Request: POST https://api.openai.com/v1/chat/completions \"HTTP/1.1 200 OK\"\n",
      "2025-09-20 20:11:37 | INFO | src.nodes.sentiment_analysis | Successfully processed news item: 35cfe17f-68e6-5fe8-a175-e577bbc7a1da\n"
     ]
    }
   ],
   "source": [
    "result3 = graph.nodes[\"sentiment_analysis\"].invoke(result2, thread)"
   ]
  },
  {
   "cell_type": "code",
   "execution_count": 13,
   "id": "8e0ec323-0930-420d-a84d-a633608752b6",
   "metadata": {},
   "outputs": [
    {
     "data": {
      "text/plain": [
       "{'processed_news': [ProcessedNewsItem(id='381e533c-11cb-57df-860d-1b8251d5e556', title='2 Examples Of How Better Blockchains Are Key For Wider Crypto Adoption', text='Legislating bitcoin purchases by the U.S. government might be exciting, but technical blockchain improvements remain essential for wider adoption', source_name='Forbes', news_url='https://www.forbes.com/sites/digital-assets/2025/09/20/2-examples-of-how-better-blockchains-are-key-for-wider-crypto-adoption/', image_url='https://crypto.snapi.dev/images/v1/r/l/9/2-examples-of-how-better-block-780224.jpg', sentiment=<Sentiment.NEUTRAL: 'NEUTRAL'>, importance=<Importance.MEDIUM: 'MEDIUM'>, is_market_relevant=True, timestamp=datetime.datetime(2025, 9, 20, 11, 52, 44, tzinfo=datetime.timezone(datetime.timedelta(days=-1, seconds=72000)))),\n",
       "  ProcessedNewsItem(id='47f890bf-2b91-5068-bf03-6b77d457637f', title='Canada Seizes $40M In Crypto From TradeOgre After Europol Tip', text=\"Canadian authorities have seized a record $40 million in crypto from cryptocurrency exchange TradeOgre. The seizure is the country's largest crypto seizure to date, and comes after a year-long probe by the Royal Canadian Mounted Police (RCMP).\", source_name='Crypto Daily', news_url='https://cryptodaily.co.uk/2025/09/canada-seizes-40m-in-crypto-from-tradeogre-after-europol-tip', image_url='https://crypto.snapi.dev/images/v1/p/p/q/gen1-571193-780221.jpg', sentiment=<Sentiment.NEUTRAL: 'NEUTRAL'>, importance=<Importance.HIGH: 'HIGH'>, is_market_relevant=True, timestamp=datetime.datetime(2025, 9, 20, 11, 51, 56, tzinfo=datetime.timezone(datetime.timedelta(days=-1, seconds=72000)))),\n",
       "  ProcessedNewsItem(id='2930090f-a511-5603-90b6-9075d441de19', title='Crypto custodian BitGo reveals 2025 revenue surge in US IPO filing', text=\"BitGo's revenue in the first half of 2025 nearly quadrupled over the prior period, though its profit margin collapsed.\", source_name='The Block', news_url='https://www.theblock.co/post/371504/crypto-custodian-bitgo-reveals-2025-revenue-surge-in-us-ipo-filing', image_url='https://crypto.snapi.dev/images/v1/w/q/t/22dd-571683-780220.jpg', sentiment=<Sentiment.NEUTRAL: 'NEUTRAL'>, importance=<Importance.MEDIUM: 'MEDIUM'>, is_market_relevant=True, timestamp=datetime.datetime(2025, 9, 20, 11, 44, 56, tzinfo=datetime.timezone(datetime.timedelta(days=-1, seconds=72000)))),\n",
       "  ProcessedNewsItem(id='35cfe17f-68e6-5fe8-a175-e577bbc7a1da', title='BitGo Files for IPO With $4.2B in H1 2025 Revenue, $90B in Crypto on Platform', text='Crypto custodian BitGo has filed its first public S-1 registration statement with the U.S. Securities and Exchange Commission (SEC), planning to list Class A common stock on the New York Stock Exchange under the ticker BTGO.', source_name='Coindesk', news_url='https://www.coindesk.com/business/2025/09/20/bitgo-files-for-ipo-with-usd4-2b-in-h1-2025-revenue-usd90b-in-crypto-on-platform', image_url='https://crypto.snapi.dev/images/v1/f/1/2/gen35-514418-780196.jpg', sentiment=<Sentiment.POSITIVE: 'POSITIVE'>, importance=<Importance.HIGH: 'HIGH'>, is_market_relevant=True, timestamp=datetime.datetime(2025, 9, 20, 10, 5, 42, tzinfo=datetime.timezone(datetime.timedelta(days=-1, seconds=72000))))]}"
      ]
     },
     "execution_count": 13,
     "metadata": {},
     "output_type": "execute_result"
    }
   ],
   "source": [
    "result3"
   ]
  },
  {
   "cell_type": "markdown",
   "id": "dce60362-783f-4ef9-9244-70e1953903ce",
   "metadata": {},
   "source": [
    "---\n",
    "## Test Node 4: Write to Database"
   ]
  },
  {
   "cell_type": "code",
   "execution_count": 14,
   "id": "2dd4bd27-24bc-4182-8206-0253c7528d36",
   "metadata": {},
   "outputs": [
    {
     "name": "stdout",
     "output_type": "stream",
     "text": [
      "2025-09-20 20:11:45 | INFO | root | Successfully inserted 4 news.\n",
      "2025-09-20 20:11:45 | INFO | src.nodes.write_to_database | Successfully added 4 news items to the database.\n"
     ]
    }
   ],
   "source": [
    "result4 = graph.nodes[\"write_to_database\"].invoke(result3, thread)"
   ]
  },
  {
   "cell_type": "code",
   "execution_count": 15,
   "id": "df7af86f-1269-4fed-8024-053f733c9a35",
   "metadata": {},
   "outputs": [
    {
     "data": {
      "text/plain": [
       "{'database_write_success': True}"
      ]
     },
     "execution_count": 15,
     "metadata": {},
     "output_type": "execute_result"
    }
   ],
   "source": [
    "result4"
   ]
  },
  {
   "cell_type": "code",
   "execution_count": null,
   "id": "7df12d86-96bf-4300-b124-5b47e3bceb69",
   "metadata": {},
   "outputs": [],
   "source": []
  }
 ],
 "metadata": {
  "kernelspec": {
   "display_name": "Python 3 (ipykernel)",
   "language": "python",
   "name": "python3"
  },
  "language_info": {
   "codemirror_mode": {
    "name": "ipython",
    "version": 3
   },
   "file_extension": ".py",
   "mimetype": "text/x-python",
   "name": "python",
   "nbconvert_exporter": "python",
   "pygments_lexer": "ipython3",
   "version": "3.12.8"
  }
 },
 "nbformat": 4,
 "nbformat_minor": 5
}
